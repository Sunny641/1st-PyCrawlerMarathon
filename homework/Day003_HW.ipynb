{
 "cells": [
  {
   "cell_type": "markdown",
   "metadata": {},
   "source": [
    "# Python 下載XML檔案與解析\n",
    "\n",
    "\n",
    "* 了解 xml 檔案格式與內容\n",
    "* 能夠利用套件存取 xml 格式的檔案\n"
   ]
  },
  {
   "cell_type": "markdown",
   "metadata": {},
   "source": [
    "## 作業目標\n",
    "\n",
    "* 比較一下範例檔案中的「File I/O」與「xmltodict」讀出來的內容有什麼差異\n",
    "\n",
    "* 根據範例檔案的結果：\n",
    "    1. 請問高雄市有多少地區有溫度資料？\n",
    "    2. 請取出每一個地區所記錄的第一個時間點跟溫度\n",
    "    3. 請取出第一個地區所記錄的每一個時間點跟溫度"
   ]
  },
  {
   "cell_type": "markdown",
   "metadata": {},
   "source": [
    "### 比較一下範例檔案中的「File I/O」與「xmltodict」讀出來的內容有什麼差異\n",
    "\n",
    "* File I/O 讀出來的資料是原始檔案內容, 沒有層級概念, 不易直接使用\n",
    "* xmltodict 讀出來的資料已轉為 dict 格式，有層級概念, 方便直接使用\n"
   ]
  },
  {
   "cell_type": "markdown",
   "metadata": {},
   "source": [
    "### 根據範例檔案的結果：\n",
    "\n",
    "1. 請問高雄市有多少地區有溫度資料？\n",
    "2. 請取出每一個地區所記錄的第一個時間點跟溫度\n",
    "3. 請取出第一個地區所記錄的每一個時間點跟溫度"
   ]
  },
  {
   "cell_type": "code",
   "execution_count": 1,
   "metadata": {},
   "outputs": [
    {
     "name": "stdout",
     "output_type": "stream",
     "text": [
      "38\n"
     ]
    }
   ],
   "source": [
    "# 1. 請問高雄市有多少地區有溫度資料？\n",
    "\n",
    "import xmltodict\n",
    "\n",
    "with open('./data/64_Week24_CH.xml', encoding = 'utf8') as fd:\n",
    "    doc = dict(xmltodict.parse(fd.read()))\n",
    "\n",
    "location = doc['cwbopendata']['dataset']['locations']['location']\n",
    "print(len(location))"
   ]
  },
  {
   "cell_type": "code",
   "execution_count": 2,
   "metadata": {},
   "outputs": [
    {
     "name": "stdout",
     "output_type": "stream",
     "text": [
      "鹽埕區 2019-12-02T00:00:00+08:00 21\n",
      "鼓山區 2019-12-02T00:00:00+08:00 21\n",
      "左營區 2019-12-02T00:00:00+08:00 21\n",
      "楠梓區 2019-12-02T00:00:00+08:00 21\n",
      "三民區 2019-12-02T00:00:00+08:00 21\n",
      "新興區 2019-12-02T00:00:00+08:00 22\n",
      "前金區 2019-12-02T00:00:00+08:00 21\n",
      "苓雅區 2019-12-02T00:00:00+08:00 22\n",
      "前鎮區 2019-12-02T00:00:00+08:00 22\n",
      "旗津區 2019-12-02T00:00:00+08:00 21\n",
      "小港區 2019-12-02T00:00:00+08:00 22\n",
      "鳳山區 2019-12-02T00:00:00+08:00 21\n",
      "林園區 2019-12-02T00:00:00+08:00 22\n",
      "大寮區 2019-12-02T00:00:00+08:00 21\n",
      "大樹區 2019-12-02T00:00:00+08:00 20\n",
      "大社區 2019-12-02T00:00:00+08:00 20\n",
      "仁武區 2019-12-02T00:00:00+08:00 20\n",
      "鳥松區 2019-12-02T00:00:00+08:00 21\n",
      "岡山區 2019-12-02T00:00:00+08:00 20\n",
      "橋頭區 2019-12-02T00:00:00+08:00 21\n",
      "燕巢區 2019-12-02T00:00:00+08:00 20\n",
      "田寮區 2019-12-02T00:00:00+08:00 19\n",
      "阿蓮區 2019-12-02T00:00:00+08:00 19\n",
      "路竹區 2019-12-02T00:00:00+08:00 20\n",
      "湖內區 2019-12-02T00:00:00+08:00 20\n",
      "茄萣區 2019-12-02T00:00:00+08:00 20\n",
      "永安區 2019-12-02T00:00:00+08:00 20\n",
      "彌陀區 2019-12-02T00:00:00+08:00 20\n",
      "梓官區 2019-12-02T00:00:00+08:00 20\n",
      "旗山區 2019-12-02T00:00:00+08:00 20\n",
      "美濃區 2019-12-02T00:00:00+08:00 20\n",
      "六龜區 2019-12-02T00:00:00+08:00 19\n",
      "甲仙區 2019-12-02T00:00:00+08:00 18\n",
      "杉林區 2019-12-02T00:00:00+08:00 20\n",
      "內門區 2019-12-02T00:00:00+08:00 19\n",
      "茂林區 2019-12-02T00:00:00+08:00 19\n",
      "桃源區 2019-12-02T00:00:00+08:00 17\n",
      "那瑪夏區 2019-12-02T00:00:00+08:00 16\n"
     ]
    }
   ],
   "source": [
    "# 2. 請取出每一個地區所記錄的第一個時間點跟溫度\n",
    "\n",
    "for i in location:\n",
    "    for j in i['weatherElement']:\n",
    "        if j['description'] == '平均溫度':\n",
    "            print(\"%s %s %s\"%(i[\"locationName\"],j[\"time\"][0][\"startTime\"],j[\"time\"][0][\"elementValue\"][\"value\"]))"
   ]
  },
  {
   "cell_type": "code",
   "execution_count": 4,
   "metadata": {},
   "outputs": [
    {
     "name": "stdout",
     "output_type": "stream",
     "text": [
      "2019-12-02T00:00:00+08:00 21\n",
      "2019-12-03T00:00:00+08:00 19\n",
      "2019-12-04T00:00:00+08:00 20\n",
      "2019-12-05T00:00:00+08:00 20\n",
      "2019-12-06T00:00:00+08:00 19\n",
      "2019-12-07T00:00:00+08:00 20\n",
      "2019-12-08T00:00:00+08:00 20\n"
     ]
    }
   ],
   "source": [
    "# 3. 請取出第一個地區所記錄的每一個時間點跟溫度\n",
    "\n",
    "for i in location[0]['weatherElement']:\n",
    "    if i['description'] == '平均溫度':\n",
    "        for j in i['time']:\n",
    "            print(j[\"startTime\"], j[\"elementValue\"][\"value\"])"
   ]
  },
  {
   "cell_type": "code",
   "execution_count": null,
   "metadata": {},
   "outputs": [],
   "source": []
  }
 ],
 "metadata": {
  "kernelspec": {
   "display_name": "Python 3",
   "language": "python",
   "name": "python3"
  },
  "language_info": {
   "codemirror_mode": {
    "name": "ipython",
    "version": 3
   },
   "file_extension": ".py",
   "mimetype": "text/x-python",
   "name": "python",
   "nbconvert_exporter": "python",
   "pygments_lexer": "ipython3",
   "version": "3.7.4"
  }
 },
 "nbformat": 4,
 "nbformat_minor": 2
}
